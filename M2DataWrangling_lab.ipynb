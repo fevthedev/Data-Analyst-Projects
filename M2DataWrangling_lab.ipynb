{
  "cells": [
    {
      "cell_type": "markdown",
      "metadata": {
        "id": "jpuMicwLspta"
      },
      "source": [
        "<p style=\"text-align:center\">\n",
        "    <a href=\"https://skills.network/?utm_medium=Exinfluencer&utm_source=Exinfluencer&utm_content=000026UJ&utm_term=10006555&utm_id=NA-SkillsNetwork-Channel-SkillsNetworkCoursesIBMDA0321ENSkillsNetwork928-2022-01-01\" target=\"_blank\">\n",
        "    <img src=\"https://cf-courses-data.s3.us.cloud-object-storage.appdomain.cloud/assets/logos/SN_web_lightmode.png\" width=\"200\" alt=\"Skills Network Logo\"  />\n",
        "    </a>\n",
        "</p>\n"
      ]
    },
    {
      "cell_type": "markdown",
      "metadata": {
        "id": "pg3mbFAOsptc"
      },
      "source": [
        "# **Data Wrangling Lab**\n"
      ]
    },
    {
      "cell_type": "markdown",
      "metadata": {
        "id": "XIVItV7Psptc"
      },
      "source": [
        "Estimated time needed: **45 to 60** minutes\n"
      ]
    },
    {
      "cell_type": "markdown",
      "metadata": {
        "id": "mefe5gvCsptc"
      },
      "source": [
        "In this assignment you will be performing data wrangling.\n"
      ]
    },
    {
      "cell_type": "markdown",
      "metadata": {
        "id": "2dXYTlNNsptc"
      },
      "source": [
        "## Objectives\n"
      ]
    },
    {
      "cell_type": "markdown",
      "metadata": {
        "id": "4kzXVU1Jsptd"
      },
      "source": [
        "In this lab you will perform the following:\n"
      ]
    },
    {
      "cell_type": "markdown",
      "metadata": {
        "id": "V30fPWassptd"
      },
      "source": [
        "-   Identify duplicate values in the dataset.\n",
        "\n",
        "-   Remove duplicate values from the dataset.\n",
        "\n",
        "-   Identify missing values in the dataset.\n",
        "\n",
        "-   Impute the missing values in the dataset.\n",
        "\n",
        "-   Normalize data in the dataset.\n"
      ]
    },
    {
      "cell_type": "markdown",
      "metadata": {
        "id": "vq3z0VJ8sptd"
      },
      "source": [
        "<hr>\n"
      ]
    },
    {
      "cell_type": "markdown",
      "metadata": {
        "id": "8ochwhlssptd"
      },
      "source": [
        "## Hands on Lab\n"
      ]
    },
    {
      "cell_type": "markdown",
      "metadata": {
        "id": "7NFg23UWsptd"
      },
      "source": [
        "Import pandas module.\n"
      ]
    },
    {
      "cell_type": "code",
      "execution_count": 51,
      "metadata": {
        "id": "LJ1xGClHsptd"
      },
      "outputs": [],
      "source": [
        "import pandas as pd\n",
        "import numpy as np"
      ]
    },
    {
      "cell_type": "markdown",
      "metadata": {
        "id": "Zume6Lbhspte"
      },
      "source": [
        "Load the dataset into a dataframe.\n"
      ]
    },
    {
      "cell_type": "code",
      "execution_count": 2,
      "metadata": {
        "id": "zxzB1QGAspte"
      },
      "outputs": [],
      "source": [
        "df = pd.read_csv(\"https://cf-courses-data.s3.us.cloud-object-storage.appdomain.cloud/IBM-DA0321EN-SkillsNetwork/LargeData/m1_survey_data.csv\")"
      ]
    },
    {
      "cell_type": "markdown",
      "metadata": {
        "id": "-CtibkE1spte"
      },
      "source": [
        "## Finding duplicates\n"
      ]
    },
    {
      "cell_type": "markdown",
      "metadata": {
        "id": "srzC8pmvspte"
      },
      "source": [
        "In this section you will identify duplicate values in the dataset.\n"
      ]
    },
    {
      "cell_type": "markdown",
      "metadata": {
        "id": "E-nBO463spte"
      },
      "source": [
        " Find how many duplicate rows exist in the dataframe.\n"
      ]
    },
    {
      "cell_type": "code",
      "execution_count": 10,
      "metadata": {
        "colab": {
          "base_uri": "https://localhost:8080/"
        },
        "id": "3HoajT84spte",
        "outputId": "a48b534b-845b-4ef1-88a3-92a381a268ce"
      },
      "outputs": [
        {
          "output_type": "stream",
          "name": "stdout",
          "text": [
            "shape (11552, 85)\n",
            "154\n"
          ]
        }
      ],
      "source": [
        "# your code goes here\n",
        "dupes = df[df['Respondent'].duplicated()]\n",
        "print('shape', df.shape)\n",
        "print(len(dupes))"
      ]
    },
    {
      "cell_type": "markdown",
      "metadata": {
        "id": "Trk7kgNZspte"
      },
      "source": [
        "## Removing duplicates\n"
      ]
    },
    {
      "cell_type": "markdown",
      "metadata": {
        "id": "Gm6I19Bospte"
      },
      "source": [
        "Remove the duplicate rows from the dataframe.\n"
      ]
    },
    {
      "cell_type": "code",
      "execution_count": 18,
      "metadata": {
        "id": "Ux5b79XTspte"
      },
      "outputs": [],
      "source": [
        "# your code goes here\n",
        "df.drop_duplicates(inplace=True)"
      ]
    },
    {
      "cell_type": "markdown",
      "metadata": {
        "id": "iyCmSfVlspte"
      },
      "source": [
        "Verify if duplicates were actually dropped.\n"
      ]
    },
    {
      "cell_type": "code",
      "execution_count": 19,
      "metadata": {
        "colab": {
          "base_uri": "https://localhost:8080/"
        },
        "id": "ey8L029rspte",
        "outputId": "b20613f9-3606-4d14-9208-e1f4e4a9affa"
      },
      "outputs": [
        {
          "output_type": "stream",
          "name": "stdout",
          "text": [
            "0\n",
            "11398\n",
            "unique Respondent 11398\n"
          ]
        }
      ],
      "source": [
        "# your code goes here\n",
        "no_dupes_count = len(df[df.duplicated()])\n",
        "print(no_dupes_count)\n",
        "print(len(df))\n",
        "print('unique Respondent', len(df['Respondent'].unique()))"
      ]
    },
    {
      "cell_type": "markdown",
      "metadata": {
        "id": "XTZXbpvOspte"
      },
      "source": [
        "## Finding Missing values\n"
      ]
    },
    {
      "cell_type": "markdown",
      "metadata": {
        "id": "iRbb7lovspte"
      },
      "source": [
        "Find the missing values for all columns.\n"
      ]
    },
    {
      "cell_type": "code",
      "execution_count": 31,
      "metadata": {
        "colab": {
          "base_uri": "https://localhost:8080/"
        },
        "id": "hEzk7yZcspte",
        "outputId": "c0e2a88f-0efc-4491-b8cb-587d5bfafc07"
      },
      "outputs": [
        {
          "output_type": "stream",
          "name": "stdout",
          "text": [
            "blank EdLevel entries 112\n",
            "blank Country entries 0\n"
          ]
        }
      ],
      "source": [
        "# your code goes here\n",
        "missing_data = df.isnull()\n",
        "print('blank EdLevel entries', len(df[df['EdLevel'].isnull()]))\n",
        "print('blank Country entries', len(df[df['Country'].isnull()]))"
      ]
    },
    {
      "cell_type": "markdown",
      "metadata": {
        "id": "6jnhsCLRsptf"
      },
      "source": [
        "Find out how many rows are missing in the column 'WorkLoc'\n"
      ]
    },
    {
      "cell_type": "code",
      "execution_count": 32,
      "metadata": {
        "colab": {
          "base_uri": "https://localhost:8080/"
        },
        "id": "vwRWWo13sptf",
        "outputId": "17aafb73-4494-46d7-a58d-02d7076fc8bb"
      },
      "outputs": [
        {
          "output_type": "stream",
          "name": "stdout",
          "text": [
            "blank WorkLoc entries 32\n"
          ]
        }
      ],
      "source": [
        "# your code goes here\n",
        "print('blank WorkLoc entries', len(df[df['WorkLoc'].isnull()]))"
      ]
    },
    {
      "cell_type": "markdown",
      "metadata": {
        "id": "jCaq76Susptf"
      },
      "source": [
        "## Imputing missing values\n"
      ]
    },
    {
      "cell_type": "markdown",
      "metadata": {
        "id": "OQOdh5Ctsptf"
      },
      "source": [
        "Find the  value counts for the column WorkLoc.\n"
      ]
    },
    {
      "cell_type": "code",
      "execution_count": 35,
      "metadata": {
        "colab": {
          "base_uri": "https://localhost:8080/"
        },
        "id": "mgF9kQAjsptf",
        "outputId": "41c2fac7-492c-429f-d9ff-f00c4e516750"
      },
      "outputs": [
        {
          "output_type": "stream",
          "name": "stdout",
          "text": [
            "WorkLoc value counts\n",
            "Office                                            6806\n",
            "Home                                              3589\n",
            "Other place, such as a coworking space or cafe     971\n",
            "Name: WorkLoc, dtype: int64\n"
          ]
        }
      ],
      "source": [
        "# your code goes here\n",
        "cats = df['WorkLoc'].value_counts()\n",
        "print('WorkLoc value counts')\n",
        "print(cats)"
      ]
    },
    {
      "cell_type": "markdown",
      "metadata": {
        "id": "jPCT51zKsptf"
      },
      "source": [
        "Identify the value that is most frequent (majority) in the WorkLoc column.\n"
      ]
    },
    {
      "cell_type": "code",
      "execution_count": 46,
      "metadata": {
        "colab": {
          "base_uri": "https://localhost:8080/"
        },
        "id": "j30kzR-Asptf",
        "outputId": "07cbc131-5c67-4613-b939-98346a6b0e0c"
      },
      "outputs": [
        {
          "output_type": "stream",
          "name": "stdout",
          "text": [
            "majority category: Office\n"
          ]
        }
      ],
      "source": [
        "#make a note of the majority value here, for future reference\n",
        "maj_cat = cats.idxmax()\n",
        "print('majority category:', maj_cat)"
      ]
    },
    {
      "cell_type": "code",
      "source": [
        "# majority category under column Employment\n",
        "employment_cats = df['Employment'].value_counts()\n",
        "print(employment_cats.idxmax())\n",
        "\n",
        "# minimum category under column UndergradMajor\n",
        "min_cats = df['UndergradMajor'].value_counts()\n",
        "print(min_cats.idxmin())"
      ],
      "metadata": {
        "colab": {
          "base_uri": "https://localhost:8080/"
        },
        "id": "qa_lC_hF1Qaw",
        "outputId": "570de9b7-51de-42e6-fb33-50ff696f0622"
      },
      "execution_count": 49,
      "outputs": [
        {
          "output_type": "stream",
          "name": "stdout",
          "text": [
            "Employed full-time\n",
            "A health science (ex. nursing, pharmacy, radiology)\n"
          ]
        }
      ]
    },
    {
      "cell_type": "markdown",
      "metadata": {
        "id": "N1EI2khMsptf"
      },
      "source": [
        "Impute (replace) all the empty rows in the column WorkLoc with the value that you have identified as majority.\n"
      ]
    },
    {
      "cell_type": "code",
      "execution_count": 67,
      "metadata": {
        "id": "obLMa9S8sptf"
      },
      "outputs": [],
      "source": [
        "# your code goes here\n",
        "df['WorkLoc'].replace(np.nan, maj_cat, inplace=True)"
      ]
    },
    {
      "cell_type": "markdown",
      "metadata": {
        "id": "4Z3lqIU3sptf"
      },
      "source": [
        "After imputation there should ideally not be any empty rows in the WorkLoc column.\n"
      ]
    },
    {
      "cell_type": "markdown",
      "metadata": {
        "id": "_JqVVHYKsptg"
      },
      "source": [
        "Verify if imputing was successful.\n"
      ]
    },
    {
      "cell_type": "code",
      "execution_count": 74,
      "metadata": {
        "colab": {
          "base_uri": "https://localhost:8080/"
        },
        "id": "qCShbplesptg",
        "outputId": "5d4bfcb6-4840-4926-8adc-0bb1283a645a"
      },
      "outputs": [
        {
          "output_type": "execute_result",
          "data": {
            "text/plain": [
              "False    11398\n",
              "Name: WorkLoc, dtype: int64"
            ]
          },
          "metadata": {},
          "execution_count": 74
        }
      ],
      "source": [
        "# your code goes here\n",
        "df['WorkLoc'].isnull().value_counts()"
      ]
    },
    {
      "cell_type": "markdown",
      "metadata": {
        "id": "68399Rn2sptg"
      },
      "source": [
        "## Normalizing data\n"
      ]
    },
    {
      "cell_type": "markdown",
      "metadata": {
        "id": "f1KNausbsptg"
      },
      "source": [
        "There are two columns in the dataset that talk about compensation.\n",
        "\n",
        "One is \"CompFreq\". This column shows how often a developer is paid (Yearly, Monthly, Weekly).\n",
        "\n",
        "The other is \"CompTotal\". This column talks about how much the developer is paid per Year, Month, or Week depending upon his/her \"CompFreq\".\n",
        "\n",
        "This makes it difficult to compare the total compensation of the developers.\n",
        "\n",
        "In this section you will create a new column called 'NormalizedAnnualCompensation' which contains the 'Annual Compensation' irrespective of the 'CompFreq'.\n",
        "\n",
        "Once this column is ready, it makes comparison of salaries easy.\n"
      ]
    },
    {
      "cell_type": "markdown",
      "metadata": {
        "id": "TIqdq_Zjsptr"
      },
      "source": [
        "<hr>\n"
      ]
    },
    {
      "cell_type": "markdown",
      "metadata": {
        "id": "94zeAhmosptr"
      },
      "source": [
        "List out the various categories in the column 'CompFreq'\n"
      ]
    },
    {
      "cell_type": "code",
      "execution_count": 97,
      "metadata": {
        "colab": {
          "base_uri": "https://localhost:8080/"
        },
        "id": "s-BNZPsKsptr",
        "outputId": "1e3e1f0f-a586-450a-98a9-15eed8b31af7"
      },
      "outputs": [
        {
          "output_type": "stream",
          "name": "stdout",
          "text": [
            "Yearly     6073\n",
            "Monthly    4788\n",
            "Weekly      331\n",
            "Name: CompFreq, dtype: int64\n",
            "unique values ['Yearly' 'Monthly' 'Weekly' nan]\n",
            "CompTotal type float64\n"
          ]
        }
      ],
      "source": [
        "# your code goes here\n",
        "print(df['CompFreq'].value_counts())\n",
        "print('unique values', df['CompFreq'].unique())\n",
        "print('CompTotal type', df['CompTotal'].dtype)"
      ]
    },
    {
      "cell_type": "markdown",
      "metadata": {
        "id": "tXCf0maKsptr"
      },
      "source": [
        "Create a new column named 'NormalizedAnnualCompensation'. Use the hint given below if needed.\n"
      ]
    },
    {
      "cell_type": "markdown",
      "metadata": {
        "id": "6xH5DIwjspts"
      },
      "source": [
        "[link text](https://)Double click to see the **Hint**.\n",
        "\n",
        "<!--\n",
        "\n",
        "Use the below logic to arrive at the values for the column NormalizedAnnualCompensation.\n",
        "\n",
        "If the CompFreq is Yearly then use the exising value in CompTotal\n",
        "If the CompFreq is Monthly then multiply the value in CompTotal with 12 (months in an year)\n",
        "If the CompFreq is Weekly then multiply the value in CompTotal with 52 (weeks in an year)\n",
        "\n",
        "-->\n"
      ]
    },
    {
      "cell_type": "code",
      "execution_count": 111,
      "metadata": {
        "colab": {
          "base_uri": "https://localhost:8080/"
        },
        "id": "OcHdsY3Nspts",
        "outputId": "33454021-2f42-416c-d467-e5a2e5b73235"
      },
      "outputs": [
        {
          "output_type": "execute_result",
          "data": {
            "text/plain": [
              "100000.0"
            ]
          },
          "metadata": {},
          "execution_count": 111
        }
      ],
      "source": [
        "# your code goes here\n",
        "def calcComp(row):\n",
        "  total = row['CompTotal']\n",
        "  freq = row['CompFreq']\n",
        "  if freq == 'Yearly':\n",
        "    return total\n",
        "  if freq == 'Monthly':\n",
        "    return total * 12\n",
        "  if freq == 'Weekly':\n",
        "    return total * 52\n",
        "\n",
        "df['NormalizedAnnualCompensation'] = df.apply(calcComp, axis=1)\n",
        "df['NormalizedAnnualCompensation'].median()"
      ]
    },
    {
      "cell_type": "markdown",
      "metadata": {
        "id": "-yq-xaFHspts"
      },
      "source": [
        "## Authors\n"
      ]
    },
    {
      "cell_type": "markdown",
      "metadata": {
        "id": "dFKUzGckspts"
      },
      "source": [
        "Ramesh Sannareddy\n"
      ]
    },
    {
      "cell_type": "markdown",
      "metadata": {
        "id": "dFUI21_Nspts"
      },
      "source": [
        "### Other Contributors\n"
      ]
    },
    {
      "cell_type": "markdown",
      "metadata": {
        "id": "CirKmONrspts"
      },
      "source": [
        "Rav Ahuja\n"
      ]
    },
    {
      "cell_type": "markdown",
      "metadata": {
        "id": "XrfYgefTspts"
      },
      "source": [
        "## Change Log\n"
      ]
    },
    {
      "cell_type": "markdown",
      "metadata": {
        "id": "_xAR0dhaspts"
      },
      "source": [
        "| Date (YYYY-MM-DD) | Version | Changed By        | Change Description                 |\n",
        "| ----------------- | ------- | ----------------- | ---------------------------------- |\n",
        "| 2020-10-17        | 0.1     | Ramesh Sannareddy | Created initial version of the lab |\n"
      ]
    },
    {
      "cell_type": "markdown",
      "metadata": {
        "id": "4wqvwGlespts"
      },
      "source": [
        " Copyright © 2020 IBM Corporation. This notebook and its source code are released under the terms of the [MIT License](https://cognitiveclass.ai/mit-license?utm_medium=Exinfluencer&utm_source=Exinfluencer&utm_content=000026UJ&utm_term=10006555&utm_id=NA-SkillsNetwork-Channel-SkillsNetworkCoursesIBMDA0321ENSkillsNetwork928-2022-01-01&cm_mmc=Email_Newsletter-_-Developer_Ed%2BTech-_-WW_WW-_-SkillsNetwork-Courses-IBM-DA0321EN-SkillsNetwork-21426264&cm_mmca1=000026UJ&cm_mmca2=10006555&cm_mmca3=M12345678&cvosrc=email.Newsletter.M12345678&cvo_campaign=000026UJ).\n"
      ]
    }
  ],
  "metadata": {
    "kernelspec": {
      "display_name": "Python",
      "language": "python",
      "name": "conda-env-python-py"
    },
    "language_info": {
      "name": ""
    },
    "colab": {
      "provenance": []
    }
  },
  "nbformat": 4,
  "nbformat_minor": 0
}